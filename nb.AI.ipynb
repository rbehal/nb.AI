{
 "cells": [
  {
   "cell_type": "code",
   "execution_count": null,
   "metadata": {},
   "outputs": [],
   "source": [
    "import pandas as pd\n",
    "import numpy as np\n",
    "import matplotlib.pyplot as plt\n",
    "import seaborn as sns\n",
    "from urllib.request import urlopen\n",
    "from bs4 import BeautifulSoup\n",
    "import pandas as pd\n",
    "from sklearn import preprocessing"
   ]
  },
  {
   "cell_type": "code",
   "execution_count": null,
   "metadata": {},
   "outputs": [],
   "source": [
    "# NBA season we will be analyzing\n",
    "year = 2019\n",
    "# URL page we will scraping (see image above)\n",
    "url = \"https://www.basketball-reference.com/leagues/NBA_{}_per_game.html\".format(year)\n",
    "# this is the HTML from the given URL\n",
    "html = urlopen(url)\n",
    "soup = BeautifulSoup(html)\n",
    "\n",
    "# use findALL() to get the column headers\n",
    "soup.findAll('tr', limit=2)\n",
    "# use getText()to extract the text we need into a list\n",
    "headers = [th.getText() for th in soup.findAll('tr', limit=2)[0].findAll('th')]\n",
    "# exclude the first column as we will not need the ranking order from Basketball Reference for the analysis\n",
    "headers = headers[1:]\n",
    "\n",
    "# avoid the first header row\n",
    "rows = soup.findAll('tr')[1:]\n",
    "player_stats = [[td.getText() for td in rows[i].findAll('td')]\n",
    "            for i in range(len(rows))]\n",
    "stats = pd.DataFrame(player_stats, columns = headers)\n",
    "stats.drop_duplicates(subset='Player', keep='first',inplace=True)\n",
    "stats.set_index(\"Player\",inplace=True)\n",
    "stats.drop('Tm', 1, inplace=True)"
   ]
  },
  {
   "cell_type": "code",
   "execution_count": null,
   "metadata": {},
   "outputs": [],
   "source": [
    "stats = pd.get_dummies(stats, columns=['Pos'])"
   ]
  },
  {
   "cell_type": "code",
   "execution_count": null,
   "metadata": {},
   "outputs": [],
   "source": [
    "stats = stats.apply(pd.to_numeric)\n",
    "corr = stats.corr()\n",
    "#corr.to_csv('output.csv', encoding='utf-8', index=False)\n",
    "\n",
    "threshold = 0.75\n",
    "\n",
    "columns = np.full((corr.shape[0],), True, dtype=bool)\n",
    "for i in range(corr.shape[0]):\n",
    "    for j in range(i+1, corr.shape[0]):\n",
    "        if corr.iloc[i,j] >= threshold:\n",
    "            if columns[j]:\n",
    "                columns[j] = False\n",
    "selected_columns = stats.columns[columns]\n",
    "stats = stats[selected_columns]\n",
    "selected_columns\n"
   ]
  },
  {
   "cell_type": "code",
   "execution_count": null,
   "metadata": {},
   "outputs": [],
   "source": [
    "mvp = []\n",
    "for i in range(531):\n",
    "    if i == 18:\n",
    "        mvp.append(1)\n",
    "    else :\n",
    "        mvp.append(0)\n",
    "scaler = preprocessing.StandardScaler()\n",
    "scaler.fit(stats)\n",
    "x_scaled = scaler.transform(stats)\n",
    "stats\n",
    "stats['MVP'] = mvp\n",
    "# stats.dtypes"
   ]
  },
  {
   "cell_type": "code",
   "execution_count": null,
   "metadata": {},
   "outputs": [],
   "source": []
  }
 ],
 "metadata": {
  "kernelspec": {
   "display_name": "Python 3",
   "language": "python",
   "name": "python3"
  },
  "language_info": {
   "codemirror_mode": {
    "name": "ipython",
    "version": 3
   },
   "file_extension": ".py",
   "mimetype": "text/x-python",
   "name": "python",
   "nbconvert_exporter": "python",
   "pygments_lexer": "ipython3",
   "version": "3.7.3"
  }
 },
 "nbformat": 4,
 "nbformat_minor": 2
}
